{
 "cells": [
  {
   "cell_type": "code",
   "execution_count": 141,
   "metadata": {},
   "outputs": [],
   "source": [
    "from sklearn import linear_model\n",
    "import pandas as pd\n",
    "from dateutil import parser\n",
    "import numpy as np\n",
    "import matplotlib.pyplot as plt\n",
    "from matplotlib.pyplot import figure\n",
    "\n",
    "\n",
    "df = pd.read_csv(\"./data/poultry_plat_avg_weight_weight.csv\")\n",
    "\n",
    "#sort by room id \n",
    "df_room_id_274 =df.query(\"room_id == '274'\")\n",
    "df_room_id_392 =df.query(\"room_id == '392'\")\n",
    "df_room_id_87 =df.query(\"room_id == '87'\")\n",
    "\n",
    "df = df_room_id_274\n",
    "\n",
    "\n",
    "\n",
    "X_train = pd.to_datetime(df['timestamp']).astype(np.int64)[0:int(.8*len(df['timestamp'].values)),None]\n",
    "y_train = df['weight'].values[0:int(.8*len(df['timestamp'].values))]\n",
    "\n",
    "X_test = pd.to_datetime(df['timestamp']).astype(np.int64)[int(.8*len(df['timestamp'].values)):,None]\n",
    "y_test = df['weight'].values[int(.8*len(df['timestamp'].values)):]\n",
    "\n",
    "\n",
    "lin_reg = linear_model.LinearRegression()\n",
    "lin_reg.fit(X_train,y_train)\n",
    "y_pred = lin_reg.predict(X_test)\n",
    "\n",
    "#figure(num=None, figsize=(30, 10), dpi=80, facecolor='w', edgecolor='k')\n",
    "#plt.scatter(pd.to_datetime(df['timestamp']).astype(np.int64)[0:int(.8*len(df['timestamp'].values))], y_train,  color='black', s = .001)\n",
    "\n",
    "df_room_id_87.query(\"timestamp in ['2019-02-20 17:23:00+00:00', '2019-05-09 02:05:00+00:00', '2019-07-18 21:44:00+00:00', '2019-11-03 16:20:00+00:00']\")\n",
    "\n",
    "X_train_end = X_train[len(X_train) - 1]\n",
    "X_train_beginning = X_train[0]\n",
    "\n",
    "test = [(x-X_train_beginning)/(X_train_end- X_train_beginning) for x in X_train]\n"
   ]
  },
  {
   "cell_type": "code",
   "execution_count": 160,
   "metadata": {},
   "outputs": [
    {
     "data": {
      "text/plain": [
       "array([1.])"
      ]
     },
     "execution_count": 160,
     "metadata": {},
     "output_type": "execute_result"
    }
   ],
   "source": [
    "df_room_id_274_timeint = df.query(\"room_id == '274'\")\n",
    "\n",
    "temp = pd.to_datetime(df_room_id_274['timestamp']).astype(np.int64)\n",
    "\n",
    "\n",
    "#\n",
    "#end_time = pd.to_datetime([\"2019-05-09 02:05:00+00:00\"]).astype(np.int64)\n",
    "\n",
    "\n",
    "\n",
    "out = temp.to_frame().query(\"timestamp < 1557367500000000000\").values\n",
    "\n",
    "out_beginning = out[0]\n",
    "out_end = out[len(out) - 1]\n",
    "\n",
    "final = [(x-out_beginning)/(out_end- out_beginning) for x in out]\n",
    "\n",
    "final[len(final) - 1]"
   ]
  },
  {
   "cell_type": "code",
   "execution_count": null,
   "metadata": {},
   "outputs": [],
   "source": []
  },
  {
   "cell_type": "code",
   "execution_count": null,
   "metadata": {},
   "outputs": [],
   "source": []
  }
 ],
 "metadata": {
  "kernelspec": {
   "display_name": "Python 3",
   "language": "python",
   "name": "python3"
  },
  "language_info": {
   "codemirror_mode": {
    "name": "ipython",
    "version": 3
   },
   "file_extension": ".py",
   "mimetype": "text/x-python",
   "name": "python",
   "nbconvert_exporter": "python",
   "pygments_lexer": "ipython3",
   "version": "3.6.5"
  }
 },
 "nbformat": 4,
 "nbformat_minor": 2
}
